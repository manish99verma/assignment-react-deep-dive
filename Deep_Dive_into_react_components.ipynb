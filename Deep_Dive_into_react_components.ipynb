{
  "nbformat": 4,
  "nbformat_minor": 0,
  "metadata": {
    "colab": {
      "provenance": []
    },
    "kernelspec": {
      "name": "python3",
      "display_name": "Python 3"
    },
    "language_info": {
      "name": "python"
    }
  },
  "cells": [
    {
      "cell_type": "markdown",
      "source": [
        "### Q1. Create a new React class component called UserProfile. This component should receive two props, username (a string) and email (a string), and display them in a meaningful way within a JSX template.\n",
        "- Used `.jsx` extension instead of `.js` for UserProfile Class Component. Due to some syntax issue by vite.\n",
        "  * [Live Link](https://manish99verma.github.io/userprofile-component/)\n",
        "  * [Source Code](https://github.com/manish99verma/userprofile-component)\n",
        "\n",
        "### Q2. Create a class-based component called Counter with an initial state value of count set to 0. Display the count value in the component. Implement two buttons, one to increment and one to decrement the count value when clicked.\n",
        "- React vite app created as required\n",
        "  * [Live link](https://manish99verma.github.io/counter-class-component/)\n",
        "  * [Source code](https://github.com/manish99verma/counter-class-component/)\n",
        "\n",
        "### Q3. Build a class-based component called ToggleButton. Initially, the component should display a button with the text \"OFF.\" When the button is clicked, it should toggle between \"ON\" and \"OFF\" each time it's clicked.\n",
        "- React vite app created as required\n",
        "  * [Live link](https://manish99verma.github.io/toggle-button/)\n",
        "  * [Source code](https://github.com/manish99verma/toggle-button)\n",
        "\n",
        "### Q4. Create a class-based component Todolist that manages a list of tasks. Implement an input field for adding new tasks, a button to add a task to the list, and a list displaying all tasks. Use state to manage the list of tasks and update it when a new task is added.\n",
        "- React vite app created as required\n",
        "  * [Live link](https://manish99verma.github.io/todolist/)\n",
        "  * [Source code](https://github.com/manish99verma/todolist)\n",
        "\n",
        "### Q5. Develop a class-based component called LoginForm with input fields for \"username\" and \"password.\" Implement a form submission handler that logs the entered values to the console when the form is submitted.\n",
        "- React vite app created as required\n",
        "  * [Live link](https://manish99verma.github.io/login-form/)\n",
        "  * [Source code](https://github.com/manish99verma/login-form)\n"
      ],
      "metadata": {
        "id": "_Ko97COSyHYG"
      }
    }
  ]
}